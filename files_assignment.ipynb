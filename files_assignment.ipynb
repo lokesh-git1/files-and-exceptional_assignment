{
 "cells": [
  {
   "cell_type": "code",
   "execution_count": null,
   "id": "f8ae15b3-4d36-4fd8-969a-332caa5b6725",
   "metadata": {},
   "outputs": [],
   "source": [
    "#  Question 1.  What is the difference between interpreted and compiled languages ? \n",
    "''' Ans=> Interpreted and compiled languages differ in how they execute code . \n",
    "   1. INTERPRETED LANGUAGES : interpreted languages execute the code directly without prior compilation, translating each instruction one at a time.\n",
    "                               This process makes interpreted languages slower in execution and requires more memory.\n",
    "                                Examples are JavaScript, Python, and BASIC .\n",
    "\n",
    "   2. COMPILED LANGUAGES:  In compiled languages, the code is converted into machine code through a two-step process before execution, allowing the program to run faster and be executed directly by the CPU.\n",
    "                           Examples of compiled languages include C, C++, and COBOL."
   ]
  },
  {
   "cell_type": "code",
   "execution_count": null,
   "id": "9f719b99-27f0-4a59-bc00-94d9864158f6",
   "metadata": {},
   "outputs": [],
   "source": [
    "# QUESTION 2. What is exception handling in Python ? \n",
    "''' Ans=> Exception handling in Python is a process that allows you to manage errors that occur during the execution of a program, enabling \n",
    "            the program to continue running even if an error occurs.\n",
    "          It involves catching exceptions, understanding what caused them, and then responding accordingly. Exceptions are errors that occur at\n",
    "            runtime when the program is being executed, often due to invalid user input or code that is invalid in Python.\n",
    " "
   ]
  },
  {
   "cell_type": "code",
   "execution_count": null,
   "id": "bbcb8c07-946d-4540-9d68-5295a1f9e548",
   "metadata": {},
   "outputs": [],
   "source": [
    "#  QUESTION 3. What is the purpose of the finally block in exception handling ? \n",
    "''' Ans=> The finally block in Python is used in conjunction with the try block statement. The finally block is used to write\n",
    "            code that must be executed regardless of whether the try block generates an error."
   ]
  },
  {
   "cell_type": "code",
   "execution_count": null,
   "id": "77ce884b-8058-48c4-ae5d-180dd141de0b",
   "metadata": {},
   "outputs": [],
   "source": [
    "#  QUESTION 4. What is logging in Python ? \n",
    "''' Ans=> Logging is a means of tracking events that happen when some software runs. Logging is important for software developing, debugging,\n",
    "           and running. If you don’t have any logging record and your program crashes, there are very few chances that you detect the cause of the problem.\n",
    "          And if you detect the cause, it will consume a lot of time. With logging, you can leave a trail of breadcrumbs so that if\n",
    "           something goes wrong, we can determine the cause of the problem. \n",
    "          The logging module is packed with several features. It has several constants, classes, and methods. The items with all caps are constant, \n",
    "            the capitalized items are classes and the items which start with lowercase letters are methods. \n",
    "\n",
    "'''\n",
    "\n",
    "import logging\n",
    "logging.info\n",
    "logging.warning"
   ]
  },
  {
   "cell_type": "code",
   "execution_count": 5,
   "id": "5cc68ac4-5e72-4b72-8157-1ff5ec6083f9",
   "metadata": {},
   "outputs": [
    {
     "name": "stdout",
     "output_type": "stream",
     "text": [
      "SimpleObject 'A' is being destroyed.\n"
     ]
    }
   ],
   "source": [
    "#  QUESTION 5. What is the significance of the __del__ method in Python ? \n",
    "''' Ans=> The __del__ method is a special method in Python that is called when an object is about to be destroyed. It allows you to define specific\n",
    "          cleanup actions that should be taken when an object is garbage collected. This method can be particularly useful for releasing external \n",
    "           resources such as file handles, network connections, or database connections that the object may hold.\n",
    "'''\n",
    "class SimpleObject:\n",
    "    def __init__(self, name):\n",
    "        self.name = name\n",
    "    \n",
    "    def __del__(self):\n",
    "        print(f\"SimpleObject '{self.name}' is being destroyed.\")\n",
    "\n",
    "# Creating and deleting an object\n",
    "obj = SimpleObject('A')\n",
    "del obj  # Explicitly deleting the object"
   ]
  },
  {
   "cell_type": "code",
   "execution_count": null,
   "id": "cb0b2d33-e439-482a-8277-066b1a86137a",
   "metadata": {},
   "outputs": [],
   "source": [
    "#  QUESTION 6. What is the difference between import and from...import in Python ? \n",
    "''' Ans=> The import statement is used to import a module or a module's attribute into the current namespace. It allows you to access the module's attributes\n",
    "             by prefixing them with the module name. For example  to import the math module, you would use the statement import math.\n",
    "               Then to access the sqrt() function you would use math.sqrt(). '''\n",
    "\n",
    "import math\n",
    "math.sqrt(36)\n",
    "\n",
    " '''\n",
    "            The from statement is used to import specific attributes from a module into the current namespace. With the from statement, you can import only the\n",
    "               attributes that you need, instead of the entire module.\n",
    "               For example, to import just the sqrt() function from the math module, you would use the statement from math import sqrt.\n",
    "               Then, you can use the sqrt() function directly in your code, without prefixing it with the module name.''' \n",
    "\n",
    "from math import sqrt\n",
    "sqrt(9)"
   ]
  },
  {
   "cell_type": "code",
   "execution_count": null,
   "id": "e3b610a4-8ee3-43d3-b799-7d1efe9f148a",
   "metadata": {},
   "outputs": [],
   "source": [
    "#  QUESTION 7. How can you handle multiple exceptions in Python ? \n",
    "''' Ans=> In Python, you can handle multiple exceptions using several methods. One common approach is to use a tuple of exception types in a \n",
    "           single except block. \n",
    "          This allows you to handle different exceptions in the same block of code.\n",
    "  for example:\n",
    "''' \n",
    "try:\n",
    "    a = int(input(\"enter the first no: \"))\n",
    "    b = int(input(\"enter the second no: \"))\n",
    "    c = a/b \n",
    "    print(\"the answer will be \" , c)\n",
    "except(ValueError,ZeroDivisionError):\n",
    "    print(\"enter the valid value\")"
   ]
  },
  {
   "cell_type": "code",
   "execution_count": null,
   "id": "f672d989-ef9b-49eb-9017-2689d9e79bfc",
   "metadata": {},
   "outputs": [],
   "source": [
    "#  QUESTION 8. What is the purpose of the with statement when handling files in Python ? \n",
    "''' Ans=> The with statement in Python is used for resource management and exception handling. It simplifies working with resources like files, \n",
    "           network connections and database connections by ensuring they are properly acquired and released. When we open a file, we need to\n",
    "            close it ourself using close(). But if something goes wrong before closing, the file might stay open, causing issues.\n",
    "            Using with open() automatically closes the file when we're done, even if an error happens.  ''' \n",
    "\n",
    "with open(\"example.txt\", \"r\") as file:\n",
    "    content = file.read()\n",
    "    print(content)  # File closes automatically"
   ]
  },
  {
   "cell_type": "code",
   "execution_count": null,
   "id": "9674f13e-1d27-4f79-8a7b-3788e11bfc21",
   "metadata": {},
   "outputs": [],
   "source": [
    "# QUESTION 9. What is the difference between multithreading and multiprocessing ? \n",
    "''' Ans=> Multiprocessing uses multiple CPUs to run many processes at a time while multithreading creates multiple threads within a single process to\n",
    "             get faster and more efficient task execution. Both Multiprocessing and Multithreading are used to increase the computing power of a \n",
    "              system in different ways. \n",
    "              \n",
    " 1.MULTITHREADING :\n",
    "    Multithreading is a system in which multiple threads are created of a process for increasing the computing speed of the system. In multithreading, many threads of a process are executed simultaneously and process creation in multithreading is done according to economical. \n",
    "\n",
    "    Advantages : \n",
    "        More efficient than multiprocessing for tasks within a single process.\n",
    "        Threads share a common address space, which is memory-efficient.\n",
    "\n",
    "    Disadvantages: \n",
    "          Not classified into categories like multiprocessing.\n",
    "           Thread creation is economical but can lead to synchronization issues.\n",
    " \n",
    "2. MULTIPROCESSING : \n",
    "     Multiprocessing is a system that has more than one or two processors. In Multiprocessing, CPUs are added to increase the computing speed of the system. Because of Multiprocessing, There are many processes are executed simultaneously. \n",
    "           \n",
    "     Advantages : \n",
    "     Increases computing power by utilizing multiple processors.\n",
    "     Suitable for tasks that require heavy computational power.\n",
    "\n",
    "      Disadvantage: \n",
    "       Process creation is time-consuming.\n",
    "       Each process has its own address space, which can lead to higher memory usage.\n"
   ]
  },
  {
   "cell_type": "code",
   "execution_count": null,
   "id": "2fe18224-b7cb-4ae5-adbd-cfbbb92804a2",
   "metadata": {},
   "outputs": [],
   "source": [
    "#  QUESTION 10. What are the advantages of using logging in a program ?\n",
    "''' Ans=> Using logging in a program offers several advantages, including aiding in debugging, providing a record of application flow, and \n",
    "           enhancing security and business intelligence. Logging helps trace the application's execution flow and store details that are\n",
    "            useful for analyzing and solving problems.\n",
    "         It can also be crucial for identifying issues that may not be apparent during development, allowing for more effective debugging and issue resolution.\n",
    "         Additionally, logging can improve the overall security of an application and provide valuable data for business intelligence.''' \n"
   ]
  },
  {
   "cell_type": "code",
   "execution_count": null,
   "id": "09b54ef8-b21e-416b-b716-0a5f4dda4ce7",
   "metadata": {},
   "outputs": [],
   "source": [
    "# QUESTION 11. What is memory management in Python ? \n",
    "''' Ans=> Memory management in Python involves the allocation and deallocation of memory for program execution. Python uses a private heap space\n",
    "          to store and manage all Python objects and data structures. The Python memory manager is responsible for allocating and deallocating \n",
    "           memory for these objects, ensuring that memory is efficiently used and freed when no longer needed.\n",
    "\n",
    "          Python's memory management is automated, which means developers do not need to manually manage memory allocation and deallocation, \n",
    "           unlike in languages such as C or C++. This automatic memory management is achieved through garbage collection, where the Python \n",
    "            interpreter frees up memory that is no longer in use.'''"
   ]
  },
  {
   "cell_type": "code",
   "execution_count": null,
   "id": "25e32300-394e-4ead-a5e0-6af8f0b7c4bd",
   "metadata": {},
   "outputs": [],
   "source": [
    "#  QUESTION 12. What are the basic steps involved in exception handling in Python ?\n",
    "''' Ans=> In Python, exception handling is managed using the try, except, else, and finally blocks. These blocks help manage errors and unusual \n",
    "           conditions in a program, ensuring that the program can recover or provide meaningful error messages to users.\n",
    "       try Block: Contains code that might raise an exception. If an exception occurs, the rest of the code in the try block is skipped.\n",
    "    except Block: Catches and handles the exception. You can specify multiple except blocks to handle different types of exceptions.\n",
    "    else Block: (Optional) Executes if no exceptions are raised in the try block.\n",
    "    finally Block: (Optional) Contains code that will always execute, regardless of whether an exception was raised or not. This is particularly \n",
    "                 useful for cleanup activities such as closing files or releasing resources.\n",
    "''' \n",
    "# for example :\n",
    "try:\n",
    "    result = 10 / 0\n",
    "except ZeroDivisionError:\n",
    "    print(\"Cannot divide by zero.\")\n",
    "else:\n",
    "    print(\"Division successful.\")\n",
    "finally:\n",
    "    print(\"Execution complete.\")"
   ]
  },
  {
   "cell_type": "code",
   "execution_count": null,
   "id": "2a0a5e3d-bb31-4b0d-bcd6-b7f4a09d7668",
   "metadata": {},
   "outputs": [],
   "source": [
    "# QUESTION 13. Why is memory management important in Python ?\n",
    "''' Ans=> Memory management is crucial in Python because it ensures efficient use of memory and prevents issues like memory leaks, which can degrade performance.\n",
    "           Proper memory management helps in optimizing memory usage, avoiding unnecessary memory overhead, and writing more efficient code.\n",
    "            Python's automatic memory management, including garbage collection and reference counting, simplifies the task of managing memory for\n",
    "             developers, though it lacks the fine-grained control available in languages like C++.\n",
    "\n",
    "          Effective memory allocation is necessary to avoid problems that arise when you run out of memory, such as memory leaks. ''' \n"
   ]
  },
  {
   "cell_type": "code",
   "execution_count": null,
   "id": "b586aa75-6317-4df3-acdb-f0c5bcd1624f",
   "metadata": {},
   "outputs": [],
   "source": [
    "#  QUESTION 14. What is the role of try and except in exception handling ?\n",
    "''' ANS => In Python, the try and except blocks are used to handle exceptions, allowing the program to continue running even if an error occurs. The try block contains the code that might throw an exception, and the except block is executed if an exception is raised in the try block. This mechanism helps in managing errors gracefully without crashing the program.'''\n",
    "try:\n",
    "    # Code that may raise an exception\n",
    "    x = 3 / 0\n",
    "    print(x)\n",
    "except:\n",
    "    # exception occurs, if code under try throws error\n",
    "    print(\"An exception occurred.\")\n"
   ]
  },
  {
   "cell_type": "code",
   "execution_count": null,
   "id": "a3095bce-8f77-4689-be7a-97583528ed33",
   "metadata": {},
   "outputs": [],
   "source": [
    "# QUESTION 15. How does Python's garbage collection system work ?\n",
    "''' ANS=> Python's garbage collection system is designed to manage memory automatically, allowing developers to focus on writing code rather than \n",
    "            worrying about memory management.\n",
    "          It primarily uses two mechanisms: reference counting and generational garbage collection.\n",
    "          \n",
    "          Reference counting is the foundational method Python uses to manage memory. Each object has a counter that keeps track of the number of \n",
    "            references to it. When an object's reference count drops to zero, it is deallocated. However, reference counting alone cannot handle \n",
    "            cyclic references, where two or more objects reference each other, preventing their reference counts from ever reaching zero.\n",
    "            \n",
    "          To address this issue, Python employs generational garbage collection. This method organizes objects into three generations based on \n",
    "            their lifespan. New objects are placed in the youngest generation (generation 0). If an object survives a garbage collection cycle,\n",
    "            it is moved to the next older generation. The garbage collector runs more frequently on younger generations and less frequently on older\n",
    "            ones, optimizing performance.'''\n"
   ]
  },
  {
   "cell_type": "code",
   "execution_count": null,
   "id": "6c28b4e1-9154-4972-86e0-4280b59ceed1",
   "metadata": {},
   "outputs": [],
   "source": [
    "# QUESTION 16. What is the purpose of the else block in exception handling ?\n",
    "''' Ans: In Python, the else block in exception handling is executed if no exceptions occur in the associated try block.\n",
    "             It is used to specify code that should run when there are no exceptions, ensuring that certain actions are taken only when the try block\n",
    "              completes successfully without any errors'''\n",
    "#The try block does not raise any errors, so the else block is executed:\n",
    "\n",
    "try:\n",
    "  print(\"Hello\")\n",
    "except:\n",
    "  print(\"Something went wrong\")\n",
    "else:\n",
    "  print(\"Nothing went wrong\")"
   ]
  },
  {
   "cell_type": "code",
   "execution_count": 27,
   "id": "85d45ac2-2441-41e5-b6f0-04df8ea94dd1",
   "metadata": {},
   "outputs": [],
   "source": [
    "# QUESTION 17. What are the common logging levels in Python ? \n",
    "''' ANS=> To record various occurrences, the logger offers several severity levels (warning, errors, critical, info, etc.).\n",
    "        1. DEBUG - Detailed information, typically of interest only when diagnosing problemsR\n",
    "        2. INFO - Confirmation that things are working as expectedR\n",
    "        3. WARNING - .An indication that something unexpected happened, or indicative of some problem in the near\n",
    "        future (e.g. ‘disk space low’). The software is still working as expectedR\n",
    "        4. ERROR - Due to a more serious problem, the software has not been able to perform some functionR\n",
    "        5. CRITICAL - A serious error, indicating that the program itself may be unable to continue running1.\n",
    "        ''' \n",
    "import logging \n",
    "logging.basicConfig(filename = ' logger.log' , level = logging.INFO)\n",
    "logging.info(\"info message being logged!\")\n",
    "logging.warning(\"warning message being logged!\")\n",
    "logging.error(\"Errors!\")\n"
   ]
  },
  {
   "cell_type": "code",
   "execution_count": null,
   "id": "b1b1bb2b-ee8f-4211-a426-affc9697a5c4",
   "metadata": {},
   "outputs": [],
   "source": [
    "# QUESTION 18. What is the difference between os.fork() and multiprocessing in Python ? \n",
    "''' Ans=>  os.fork() is a lower-level system call that creates a new process by duplicating the current process. On Unix-like systems, \n",
    "                 it is the default method used for creating child processes. When a process is forked, the child process inherits the entire memory\n",
    "                 space of the parent process, which can be memory-intensive. This method is suitable for situations where you need to share a lot of \n",
    "                 data and state between the parent and child processes efficiently. \n",
    "                 \n",
    "           multiprocessing is a higher-level interface that abstracts the process creation and management. It is designed to be cross-platform, \n",
    "                 meaning it works on both Unix-like systems and Windows. In Unix-like systems, multiprocessing can use either the fork or spawn \n",
    "                 method to create child processes, depending on the configuration. \n",
    "\n",
    "'''\n"
   ]
  },
  {
   "cell_type": "code",
   "execution_count": null,
   "id": "5b97531e-0015-4c5c-9237-2bd5982dd584",
   "metadata": {},
   "outputs": [],
   "source": [
    "# QUESTION 19.  What is the importance of closing a file in Python ? \n",
    "''' ANS=> Closing a file in Python is important for several reasons. It ensures resource management by freeing up system resources such as memory and\n",
    "           file descriptors, which are essential for efficient usage by other programs or processes.\n",
    "         It also maintains data integrity by ensuring that the buffer is flushed and all data is written to the file, preventing data loss or corruption.\n",
    "         Additionally, closing files prevents file locks, allowing other processes to access the file.\n",
    "         Not closing files can lead to memory leaks and unexpected behavior in your program.\n",
    "         Properly closing files is a best practice that improves program readability and maintainability, and it helps prevent potential issues related\n",
    "          to concurrent access or locked resources.\n",
    "        \n",
    "         Using a context manager with the with statement is a recommended way to handle files in Python, as it ensures that files are closed properly, even if an error occurs.\n",
    "         This method is preferred over manually calling the close() method on a file object.''' \n"
   ]
  },
  {
   "cell_type": "code",
   "execution_count": null,
   "id": "2f90e710-5b9f-48ef-9b7c-5fa49661e8d3",
   "metadata": {},
   "outputs": [],
   "source": [
    "# QUESTION 20. What is the difference between file.read() and file.readline() in Python ? \n",
    "''' ANS=> In Python, file.read() reads the entire contents of a file into a string, or you can specify the number of characters to read by providing \n",
    "           an optional argument. For example, file.read(15) reads the first 15 characters of the file.\n",
    "\n",
    "          On the other hand, file.readline() reads a single line from the file, including the newline character, and returns it as a string.\n",
    "           If you provide an optional argument, it will read up to that number of characters or until the newline character is reached, whichever \n",
    "            comes first.'''\n",
    "\n"
   ]
  },
  {
   "cell_type": "code",
   "execution_count": null,
   "id": "9bf71f52-cb5a-424e-9749-4cef3bb5dfb6",
   "metadata": {},
   "outputs": [],
   "source": [
    "# QUESTION 21.  What is the logging module in Python used for ?\n",
    "''' Ans=> The logging module in Python is used for recording software events, creating an audit trail that details various system operations. \n",
    "           This trail helps in diagnosing issues, understanding runtime behavior, and analyzing user interactions, offering insights into design decisions.\n",
    "\n",
    "          Logging is essential for building dependable software as it records events that occur during program execution, such as errors, warnings, \n",
    "            and debugging messages''' \n"
   ]
  },
  {
   "cell_type": "code",
   "execution_count": null,
   "id": "eeb94ae6-9b56-4c17-badd-c536c65ac65a",
   "metadata": {},
   "outputs": [],
   "source": [
    "# QUESTION 22. What is the os module in Python used for in file handling ?\n",
    "''' ANS=> The os module in Python is used for file handling and provides methods for interacting with the operating system, such as creating, reading,\n",
    "          updating, and deleting files and directories.\n",
    "\n",
    "        For file handling, the os module includes functions like os.open(), os.read(), and os.write() which allow for low-level file operations.\n",
    "         For example, os.open() can be used to open a file for reading or writing, and os.read() reads a specified number of bytes from a file descriptor"
   ]
  },
  {
   "cell_type": "code",
   "execution_count": null,
   "id": "19edf997-be0a-4821-8885-b5814d59b043",
   "metadata": {},
   "outputs": [],
   "source": [
    "# QUESTION 23. What are the challenges associated with memory management in Python ?\n",
    "''' ANS=> Memory management in Python presents several challenges, including memory leaks, slow performance, and unexpected crashes.\n",
    "          Memory leaks occur when the system does not release memory taken up by objects that are no longer in use, often due to references that are\n",
    "           never removed.\n",
    "          This can lead to a gradual loss of available memory, slowing down the application's performance and potentially causing it to crash.\n",
    "          Additionally, poor memory management can result in MemoryError exceptions when the application tries to allocate more memory than is available.\n",
    "\n",
    "           Another challenge is the performance impact of frequent memory allocation and deallocation, especially when dealing with large data sets \n",
    "            or complex data structures.'''\n"
   ]
  },
  {
   "cell_type": "code",
   "execution_count": 29,
   "id": "668b1f9a-75f3-4d2c-a0c1-5d30b349036d",
   "metadata": {},
   "outputs": [],
   "source": [
    "# QUESTION 24.  How do you raise an exception manually in Python ? \n",
    "''' ANS=> To manually raise an exception in Python, you can use the raise keyword followed by the type of exception you want to raise. \n",
    "          For example, to raise a ValueError exception, you would use raise ValueError. You can also include an optional error message that\n",
    "           provides additional information about the exception.\n",
    "'''\n",
    "def calculate_payment(amount, payment_type):\n",
    "    if payment_type != \"Visa\" and payment_type != \"Mastercard\":\n",
    "        raise ValueError(\"Payment type must be Visa or Mastercard\")\n",
    "    # Do the calculation using the provided amount and payment type\n",
    "    # ..."
   ]
  },
  {
   "cell_type": "code",
   "execution_count": null,
   "id": "8df1a043-fb95-4a30-b5f8-2e55089f5268",
   "metadata": {},
   "outputs": [],
   "source": [
    "# QUESTION 25. Why is it important to use multithreading in certain applications ?\n",
    "'''\n",
    "ANS=> Multithreading is important in certain applications because it allows for the efficient use of CPU resources, enhances performance, and improves\n",
    "         responsiveness. By executing multiple threads concurrently, applications can take advantage of parallelism, reducing overall execution time and\n",
    "         improving performance on multiprocessor systems.\n",
    "      Additionally, multithreading enables better resource utilization, such as handling multiple client requests simultaneously in server applications, \n",
    "        and it can facilitate better code organization and modularity by dividing complex tasks into smaller, manageable units of execution. "
   ]
  },
  {
   "cell_type": "code",
   "execution_count": null,
   "id": "f208c35d-dc70-45ff-9ace-30f075666443",
   "metadata": {},
   "outputs": [],
   "source": [
    "                                                                                   # PRACTICAL QUESTION \n"
   ]
  },
  {
   "cell_type": "code",
   "execution_count": null,
   "id": "e27e8397-151e-4d03-a2dc-c864fe099cef",
   "metadata": {},
   "outputs": [],
   "source": [
    "# QUESTION 1. How can you open a file for writing in Python and write a string to it ?\n",
    "''' ANS=> To open a file for writing in Python, you can use the open() function with the mode \"w\". This mode will truncate the file if it already exists,\n",
    "          meaning all existing content will be deleted. \n",
    "'''\n",
    "# Open a file for writing (this will create the file if it doesn't exist)\n",
    "with open(\"example.txt\", \"w\") as file:\n",
    "    file.write(\"Hello, this is a line written to the file!\")\n"
   ]
  },
  {
   "cell_type": "code",
   "execution_count": null,
   "id": "116b122c-a0a6-4cd4-acaf-0f4ebc99ff96",
   "metadata": {},
   "outputs": [],
   "source": [
    "# QUESTION 2.  Write a Python program to read the contents of a file and print each line ?\n",
    "''' ANS=> To read the contents of a file and print each line in Python, you can use the readlines() method. This method reads the entire file and \n",
    "            returns a list of strings, where each string is a line from the file '''\n",
    "with open('filename.txt', 'r') as file:\n",
    "    lines = file.readlines()\n",
    "    for line in lines:\n",
    "        print(line.strip())\n",
    "        "
   ]
  },
  {
   "cell_type": "code",
   "execution_count": null,
   "id": "0694d908-dd77-467b-a5e7-7d3160ea7743",
   "metadata": {},
   "outputs": [],
   "source": [
    "# QUESTION 3. How would you handle a case where the file doesn't exist while trying to open it for reading ? \n",
    "''' ANS=> To handle the case where a file doesn't exist while trying to open it for reading, you can use a try-except block to catch the\n",
    "       FileNotFoundError . \n",
    "''' \n",
    "file_name = \"non_existing_file.txt\"\n",
    "\n",
    "try:\n",
    "    with open(file_name, 'r') as file:\n",
    "        content = file.read()\n",
    "        print(content)\n",
    "except FileNotFoundError:\n",
    "    print(f\"Error: The file '{file_name}' was not found.\")\n"
   ]
  },
  {
   "cell_type": "code",
   "execution_count": null,
   "id": "f0729b75-c83d-4d07-a0b7-ba56f051df5c",
   "metadata": {},
   "outputs": [],
   "source": [
    "# QUESTION 4. Write a Python script that reads from one file and writes its content to another file ?\n",
    "\n",
    "# File names\n",
    "source_file = \"source.txt\"\n",
    "destination_file = \"destination.txt\"\n",
    "\n",
    "try:\n",
    "    # Open the source file in read mode\n",
    "    with open(source_file, 'r') as src:\n",
    "        content = src.read()\n",
    "\n",
    "    # Open the destination file in write mode\n",
    "    with open(destination_file, 'w') as dest:\n",
    "        dest.write(content)\n",
    "\n",
    "    print(f\"Content copied from '{source_file}' to '{destination_file}' successfully.\")\n",
    "\n",
    "except FileNotFoundError:\n",
    "    print(f\"Error: The file '{source_file}' does not exist.\")\n"
   ]
  },
  {
   "cell_type": "code",
   "execution_count": null,
   "id": "121cef72-c529-4aea-97ca-f9b901061d41",
   "metadata": {},
   "outputs": [],
   "source": [
    "# QUESTION 5. How would you catch and handle division by zero error in Python ? \n",
    "''' ANS=> To catch and handle a division by zero error in Python, you use a try-except block and specifically catch the ZeroDivisionError.\n",
    "\n",
    "'''\n",
    "try:\n",
    "    a = int(input(\"Enter the first no: \"))\n",
    "    b = int(input(\"Enter the second no.: \"))\n",
    "    result = a / b \n",
    "    print(\"Result:\", result)\n",
    "except ZeroDivisionError:\n",
    "    print(\"Error: Cannot divide by zero.\")\n"
   ]
  },
  {
   "cell_type": "code",
   "execution_count": null,
   "id": "83e7f296-bb8f-4699-aa7a-27717d24bcb2",
   "metadata": {},
   "outputs": [],
   "source": [
    "# QUESTION 6.Write a Python program that logs an error message to a log file when a division by zero exception occurs ? \n",
    "''' ANS=>'''\n",
    "import logging\n",
    "\n",
    "# Configure logging\n",
    "logging.basicConfig(\n",
    "    filename='error_log.txt',\n",
    "    level=logging.ERROR,\n",
    "    format='%(asctime)s - %(levelname)s - %(message)s'\n",
    ")\n",
    "\n",
    "try:\n",
    "    a = int(input(\"Enter numerator: \"))\n",
    "    b = int(input(\"Enter denominator: \"))\n",
    "    result = a / b\n",
    "    print(\"Result:\", result)\n",
    "\n",
    "except ZeroDivisionError as e:\n",
    "    print(\"Error: Cannot divide by zero.\")\n",
    "    logging.error(\"Division by zero error: %s\", e)\n",
    "\n",
    "except ValueError as e:\n",
    "    print(\"Error: Invalid input. Please enter numbers.\")\n",
    "    logging.error(\"Invalid input: %s\", e)\n"
   ]
  },
  {
   "cell_type": "code",
   "execution_count": null,
   "id": "a24dcd01-9b8e-4011-8710-0d79e34b23dc",
   "metadata": {},
   "outputs": [],
   "source": [
    "# QUESTION 7. How do you log information at different levels (INFO, ERROR, WARNING) in Python using the logging module ? \n",
    "import logging\n",
    "\n",
    "# Configure the logging system\n",
    "logging.basicConfig(\n",
    "    filename='app.log',\n",
    "    level=logging.DEBUG,  # Set the minimum level to capture all logs\n",
    "    format='%(asctime)s - %(levelname)s - %(message)s'\n",
    ")\n",
    "\n",
    "# Log messages at different levels\n",
    "logging.debug(\"This is a DEBUG message (used for detailed diagnostic info)\")\n",
    "logging.info(\"This is an INFO message (used for general information)\")\n",
    "logging.warning(\"This is a WARNING message (something unexpected happened)\")\n",
    "logging.error(\"This is an ERROR message (a serious problem occurred)\")\n",
    "logging.critical(\"This is a CRITICAL message (a major failure happened)\")\n"
   ]
  },
  {
   "cell_type": "code",
   "execution_count": null,
   "id": "7fe19db7-427f-40f6-b94a-e960da0283bf",
   "metadata": {},
   "outputs": [],
   "source": [
    "# QUESTION 8. Write a program to handle a file opening error using exception handling ? \n",
    "file_name = \"data.txt\"  # Change this to a file that may or may not exist\n",
    "\n",
    "try:\n",
    "    with open(file_name, 'r') as file:\n",
    "        content = file.read()\n",
    "        print(\"File content:\")\n",
    "        print(content)\n",
    "\n",
    "except FileNotFoundError:\n",
    "    print(f\"Error: The file '{file_name}' was not found.\")\n",
    "\n",
    "except PermissionError:\n",
    "    print(f\"Error: You do not have permission to read '{file_name}'.\")\n",
    "\n",
    "except Exception as e:\n",
    "    print(f\"An unexpected error occurred: {e}\")\n"
   ]
  },
  {
   "cell_type": "code",
   "execution_count": null,
   "id": "5ff0b378-7c9f-4b7a-b35c-ac47ac8c6156",
   "metadata": {},
   "outputs": [],
   "source": [
    "# QUESTION 9. How can you read a file line by line and store its content in a list in Python ? \n",
    "''' ANS=> To read a file line by line and store its content in a list in Python, you can use several methods. One common method is using the\n",
    "           readlines() function, which reads the entire file and returns a list of lines. Each line includes the newline character at the end, which you can remove using the strip() method.''' \n",
    "with open('example.txt', 'r') as file:\n",
    "    lines = file.readlines()"
   ]
  },
  {
   "cell_type": "code",
   "execution_count": null,
   "id": "8e9416ab-8663-40b8-a767-7e70eb1da35a",
   "metadata": {},
   "outputs": [],
   "source": [
    "# QUESTION 10 . How can you append data to an existing file in Python ? \n",
    "''' ANS=> To append data to an existing file in Python, you can use the open() function with the mode 'a' (append). This mode allows you to write new data at the end of the file without overwriting existing data ''' \n",
    "with open(\"filename.txt\", \"a\") as file:\n",
    "    file.write(\"This is new data that is being appended to the file.\")\n",
    "    "
   ]
  },
  {
   "cell_type": "code",
   "execution_count": null,
   "id": "a7fe53e3-d65a-4659-a522-74bc9a23a707",
   "metadata": {},
   "outputs": [],
   "source": [
    "# QUESTION 11. Write a Python program that uses a try-except block to handle an error when attempting to access a dictionary key that doesn't exist ? \n",
    "\n",
    "my_dict = {\"a\": 1, \"b\": 2, \"c\": 3}\n",
    "\n",
    "try:\n",
    "    value = my_dict[\"d\"]\n",
    "except KeyError:\n",
    "    value = \"Key not found.\"\n",
    "print(value)"
   ]
  },
  {
   "cell_type": "code",
   "execution_count": null,
   "id": "11e97fad-5ee0-43cd-adcd-9d15758f26b4",
   "metadata": {},
   "outputs": [],
   "source": [
    "# QUESTION 12.  Write a program that demonstrates using multiple except blocks to handle different types of exceptions ?\n",
    "''' ANS=> Python program that demonstrates how to use multiple except blocks to handle different types of exceptions like ValueError, ZeroDivisionError, and a general Exception.''' \n",
    "try:\n",
    "    num1 = int(input(\"Enter the numerator: \"))\n",
    "    num2 = int(input(\"Enter the denominator: \"))\n",
    "    result = num1 / num2\n",
    "    print(\"Result:\", result)\n",
    "\n",
    "except ValueError:\n",
    "    print(\"Error: Please enter valid integers.\")\n",
    "\n",
    "except ZeroDivisionError:\n",
    "    print(\"Error: Cannot divide by zero.\")\n",
    "\n",
    "except Exception as e:\n",
    "    print(f\"An unexpected error occurred: {e}\")\n",
    "\n"
   ]
  },
  {
   "cell_type": "code",
   "execution_count": null,
   "id": "5272d623-79e6-439b-a392-ebb9ab727304",
   "metadata": {},
   "outputs": [],
   "source": [
    "# QUESTION 13. How would you check if a file exists before attempting to read it in Python ? \n",
    "''' ANS=> Using os.path.exists(): This method checks whether a given path exists. It returns True if the path exists and False otherwise. ''' \n",
    "import os\n",
    "\n",
    "file_name = \"example.txt\"\n",
    "\n",
    "if os.path.exists(file_name):\n",
    "    with open(file_name, 'r') as file:\n",
    "        content = file.read()\n",
    "        print(content)\n",
    "else:\n",
    "    print(f\"The file '{file_name}' does not exist.\")\n"
   ]
  },
  {
   "cell_type": "code",
   "execution_count": null,
   "id": "3d3b6e61-631d-4ecd-8921-9f80e31a6bd1",
   "metadata": {},
   "outputs": [],
   "source": [
    "# QUESTION 14. Write a program that uses the logging module to log both informational and error messages ? \n",
    "import logging\n",
    "\n",
    "# Configure logging settings\n",
    "logging.basicConfig(\n",
    "    filename='app.log',\n",
    "    level=logging.DEBUG,  # Logs everything from DEBUG level and above\n",
    "    format='%(asctime)s - %(levelname)s - %(message)s'\n",
    ")\n",
    "\n",
    "def divide(a, b):\n",
    "    logging.info(f\"Attempting to divide {a} by {b}\")\n",
    "    try:\n",
    "        result = a / b\n",
    "        logging.info(f\"Division successful: {a} / {b} = {result}\")\n",
    "        return result\n",
    "    except ZeroDivisionError as e:\n",
    "        logging.error(\"Division by zero error occurred.\")\n",
    "        return None\n",
    "\n",
    "# Example usage\n",
    "x = int(input(\"Enter numerator: \"))\n",
    "y = int(input(\"Enter denominator: \"))\n",
    "output = divide(x, y)\n",
    "\n",
    "if output is not None:\n",
    "    print(\"Result:\", output)\n",
    "else:\n",
    "    print(\"Could not perform division.\")\n",
    "\n"
   ]
  },
  {
   "cell_type": "code",
   "execution_count": null,
   "id": "f6c52c1f-98cd-49f7-850f-f43393a18576",
   "metadata": {},
   "outputs": [],
   "source": [
    "# QUESTION 15. Write a Python program that prints the content of a file and handles the case when the file is empty ? \n",
    "def read_file(file_name):\n",
    "    try:\n",
    "        with open(file_name, 'r') as file:\n",
    "            content = file.read()\n",
    "            \n",
    "            if content.strip():  # Check if content is not just whitespace\n",
    "                print(\"File content:\")\n",
    "                print(content)\n",
    "            else:\n",
    "                print(f\"The file '{file_name}' is empty.\")\n",
    "\n",
    "    except FileNotFoundError:\n",
    "        print(f\"Error: The file '{file_name}' does not exist.\")\n",
    "\n",
    "    except Exception as e:\n",
    "        print(f\"An unexpected error occurred: {e}\")\n",
    "\n",
    "# Example usage\n",
    "file_name = \"example.txt\"  # Replace with your actual filename\n",
    "read_file(file_name)\n"
   ]
  },
  {
   "cell_type": "code",
   "execution_count": null,
   "id": "d76052a9-86b4-4d53-963d-7fe5df9b2374",
   "metadata": {},
   "outputs": [],
   "source": [
    "# QUESTION 16.  Demonstrate how to use memory profiling to check the memory usage of a small program ?\n",
    "''' ANS=> To use memory profiling to check the memory usage of a small program in Python, you can follow these steps : \n",
    "     1. Install the memory-profiler package. This can be done using pip:'''\n",
    "\n",
    "pip install memory-profiler\n",
    "\n",
    "''' 2. Decorate the function or method you want to profile with the @profile decorator.\n",
    "      For example, if you have a function named my_function, you would write: '''\n",
    "\n",
    "from memory_profiler import profile\n",
    "\n",
    "@profile\n",
    "def my_function():\n",
    "    # Your code here\n",
    "\n",
    "''' 3. Run the script with the memory profiler by executing : '''\n",
    "python -m memory_profiler myscript.py"
   ]
  },
  {
   "cell_type": "code",
   "execution_count": null,
   "id": "0aa27ef2-743b-4fb9-93a7-51a2647ad1bd",
   "metadata": {},
   "outputs": [],
   "source": [
    "# QUESTION 17. Write a Python program to create and write a list of numbers to a file, one number per line ? \n",
    "''' ANS=> '''\n",
    "numbers = [1, 2, 3, 4, 5]\n",
    "with open('numbers.txt', 'w') as file:\n",
    "    for number in numbers:\n",
    "        file.write(f\"{number}\\n\")"
   ]
  },
  {
   "cell_type": "code",
   "execution_count": null,
   "id": "e611942d-a4b6-4508-93ec-3be5dd546698",
   "metadata": {},
   "outputs": [],
   "source": [
    "# QUESTION 18. How would you implement a basic logging setup that logs to a file with rotation after 1MB ? \n",
    "import logging\n",
    "from logging.handlers import RotatingFileHandler\n",
    "\n",
    "# Create a rotating file handler\n",
    "handler = RotatingFileHandler(\n",
    "    filename='app.log',      # Log file name\n",
    "    maxBytes=1_000_000,      # Rotate after 1MB (1,000,000 bytes)\n",
    "    backupCount=3            # Keep 3 backup log files\n",
    ")\n",
    "\n",
    "# Create a logging format\n",
    "formatter = logging.Formatter('%(asctime)s - %(levelname)s - %(message)s')\n",
    "handler.setFormatter(formatter)\n",
    "\n",
    "# Set up the root logger\n",
    "logger = logging.getLogger()\n",
    "logger.setLevel(logging.INFO)\n",
    "logger.addHandler(handler)\n",
    "\n",
    "# Example logs\n",
    "for i in range(10000):\n",
    "    logger.info(f\"This is log message number {i}\")\n"
   ]
  },
  {
   "cell_type": "code",
   "execution_count": null,
   "id": "07258a5e-a6de-4ff0-b869-0ba8a6c7bd7f",
   "metadata": {},
   "outputs": [],
   "source": [
    "# QUESTION 19. Write a program that handles both IndexError and KeyError using a try-except block ? \n",
    "data = {'a': 1, 'b': 2, 'c': 3}\n",
    "sequence = [1, 2, 3, 4, 5]\n",
    "\n",
    "try:\n",
    "    # Attempt to access a key that might not exist\n",
    "    value = data['d']\n",
    "    # Attempt to access an index that might be out of range\n",
    "    index_value = sequence\n",
    "except KeyError:\n",
    "    print(\"Error: Key does not exist in the dictionary.\")\n",
    "except IndexError:\n",
    "    print(\"Error: Index is out of range in the sequence.\")"
   ]
  },
  {
   "cell_type": "code",
   "execution_count": null,
   "id": "db853eb8-6c34-4d48-8fff-243a31b0f5da",
   "metadata": {},
   "outputs": [],
   "source": [
    "# QUESTION 20. How would you open a file and read its contents using a context manager in Python ? \n",
    "''' ANS=> To open a file and read its contents using a context manager in Python, you can use the with statement along with the open() function \n",
    "''' \n",
    "with open(\"filename.txt\", \"r\") as file:\n",
    "    content = file.read()"
   ]
  },
  {
   "cell_type": "code",
   "execution_count": null,
   "id": "d276ae40-9391-474f-bf62-4d3d162124a1",
   "metadata": {},
   "outputs": [],
   "source": [
    "# QUESTION 21. Write a Python program that reads a file and prints the number of occurrences of a specific word ? \n",
    "fname = input(\"Enter file name: \")\n",
    "word = input(\"Enter word to be searched: \")\n",
    "k = 0\n",
    "with open(fname, 'r') as f:\n",
    "    for line in f:\n",
    "        words = line.split()\n",
    "        for i in words:\n",
    "            if i == word:\n",
    "                k += 1\n",
    "print(\"Occurrences of the word:\")\n",
    "print(k)"
   ]
  },
  {
   "cell_type": "code",
   "execution_count": null,
   "id": "bf4eb239-3e4a-4119-bd01-7d5fea9a4a56",
   "metadata": {},
   "outputs": [],
   "source": [
    "# QUESTION 22.  How can you check if a file is empty before attempting to read its contents ? \n",
    "''' ANS=> os.path.getsize() method to determine the size of the file in bytes. If the file size is zero, the file is considered empty'''\n",
    "import os\n",
    "\n",
    "file_name = \"example.txt\"\n",
    "\n",
    "if os.path.getsize(file_name) == 0:\n",
    "    print(\"The file is empty.\")\n",
    "else:\n",
    "    with open(file_name, 'r') as file:\n",
    "        content = file.read()\n",
    "        print(content)\n"
   ]
  },
  {
   "cell_type": "code",
   "execution_count": null,
   "id": "d6da9620-053a-4dd9-8d89-77271ae8b8e3",
   "metadata": {},
   "outputs": [],
   "source": [
    "# QUESTION 23. Write a Python program that writes to a log file when an error occurs during file handling ? \n",
    "''' ANS=> To create a Python program that logs errors to a file during file handling, you can use the built-in logging module. First, configure the logger to write logs to a specified file. Then, include a try-except block around the file handling code to catch any exceptions and log them appropriately ''' \n",
    "import logging\n",
    "\n",
    "# Set up the basic configuration for logging\n",
    "logging.basicConfig(filename='file_handling.log', level=logging.ERROR,\n",
    "                    format='%(asctime)s - %(levelname)s - %(message)s')\n",
    "\n",
    "try:\n",
    "    # Attempt to open a file and read from it\n",
    "    with open('nonexistent_file.txt', 'r') as file:\n",
    "        content = file.read()\n",
    "except Exception as e:\n",
    "    # Log the error\n",
    "    logging.error(f\"An error occurred: {e}\")"
   ]
  }
 ],
 "metadata": {
  "kernelspec": {
   "display_name": "Python [conda env:base] *",
   "language": "python",
   "name": "conda-base-py"
  },
  "language_info": {
   "codemirror_mode": {
    "name": "ipython",
    "version": 3
   },
   "file_extension": ".py",
   "mimetype": "text/x-python",
   "name": "python",
   "nbconvert_exporter": "python",
   "pygments_lexer": "ipython3",
   "version": "3.12.7"
  }
 },
 "nbformat": 4,
 "nbformat_minor": 5
}
